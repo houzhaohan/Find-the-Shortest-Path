{
 "cells": [
  {
   "cell_type": "markdown",
   "id": "85d08192-4c0b-4992-abe8-31c3e410b37d",
   "metadata": {},
   "source": [
    "## 人工智能与无人驾驶技术"
   ]
  },
  {
   "cell_type": "code",
   "execution_count": 16,
   "id": "751a66d4-fc17-4869-af65-f4b7fd75f458",
   "metadata": {},
   "outputs": [],
   "source": [
    "import networkx as nx\n",
    "import matplotlib.pyplot as plt"
   ]
  },
  {
   "cell_type": "markdown",
   "id": "db3d6b51-9a26-4ea8-8b2d-2550848cf86d",
   "metadata": {},
   "source": [
    "#"
   ]
  },
  {
   "cell_type": "markdown",
   "id": "282517d7-8b2d-46d5-9bf8-5a382fb41c4f",
   "metadata": {},
   "source": [
    "定义图的邻接表结构，表示各节点及其相邻节点的权重"
   ]
  },
  {
   "cell_type": "code",
   "execution_count": 24,
   "id": "f0670ccf-4026-4415-b0a1-9467986085e3",
   "metadata": {},
   "outputs": [],
   "source": [
    "graph = {\n",
    "    'A': {'B': 6, 'C': 3},\n",
    "    'B': {'A': 6, 'C': 2, 'D': 5},\n",
    "    'C': {'A': 3, 'B': 2, 'D': 3, 'E': 4},\n",
    "    'D': {'B': 5, 'C': 3, 'E': 2, 'F': 3},\n",
    "    'E': {'C': 4, 'D': 2, 'F': 5},\n",
    "    'F': {'D': 3, 'E': 5}\n",
    "}"
   ]
  },
  {
   "cell_type": "markdown",
   "id": "11ef03d6-5a82-457d-9216-77a62f3fe796",
   "metadata": {},
   "source": [
    "#"
   ]
  },
  {
   "cell_type": "markdown",
   "id": "c55a194d-effe-491a-a0fb-4b5adb1ba80a",
   "metadata": {},
   "source": [
    "打印出图表，图形可视化"
   ]
  },
  {
   "cell_type": "code",
   "execution_count": 28,
   "id": "ca45e789-5493-4c18-b3ba-35de7f088a2f",
   "metadata": {
    "scrolled": true
   },
   "outputs": [
    {
     "data": {
      "image/png": "[encoded data removed]",
      "text/plain": [
       "<Figure size 400x300 with 1 Axes>"
      ]
     },
     "metadata": {},
     "output_type": "display_data"
    }
   ],
   "source": [
    "# 创建无向图\n",
    "G = nx.Graph()\n",
    "\n",
    "# 添加边\n",
    "for node in graph:\n",
    "    for neighbor, weight in graph[node].items():\n",
    "        if node < neighbor:  # 确保每条边只添加一次\n",
    "            G.add_edge(node, neighbor, weight=weight)\n",
    "\n",
    "# 设置图形布局\n",
    "pos = nx.spring_layout(G, seed=15)  # 使用固定种子保证布局一致性\n",
    "\n",
    "# 绘制节点和边\n",
    "plt.figure(figsize=(4, 3))\n",
    "nx.draw_networkx_nodes(G, pos, node_size=500, node_color='lightblue')\n",
    "nx.draw_networkx_edges(G, pos, width=2, edge_color='gray')\n",
    "\n",
    "# 添加标签\n",
    "nx.draw_networkx_labels(G, pos, font_size=16, font_weight='bold')\n",
    "edge_labels = nx.get_edge_attributes(G, 'weight')\n",
    "nx.draw_networkx_edge_labels(G, pos, edge_labels=edge_labels, font_size=12)\n",
    "\n",
    "# 显示图形\n",
    "plt.axis('off')\n",
    "plt.tight_layout()\n",
    "plt.show()"
   ]
  },
  {
   "cell_type": "markdown",
   "id": "b8052dd4-ffdb-4a6a-ae8f-69d67bc03d15",
   "metadata": {},
   "source": [
    "#"
   ]
  },
  {
   "cell_type": "markdown",
   "id": "c79d7145-ae24-4203-8852-827beec62809",
   "metadata": {},
   "source": [
    "迪杰斯特拉算法"
   ]
  },
  {
   "cell_type": "code",
   "execution_count": 32,
   "id": "dbe19005-fd55-4ad1-8048-7318ee293d5f",
   "metadata": {},
   "outputs": [],
   "source": [
    "def dijkstra(graph, source):\n",
    "    # 初始化距离字典，所有节点初始为无穷大，源点距离为0\n",
    "    distances = {node: float('inf') for node in graph}\n",
    "    distances[source] = 0\n",
    "    # 记录每个节点的前驱节点，记录到达每个节点的最短路径中的前一个节点，用于最终路径重构\n",
    "    predecessors = {node: None for node in graph}\n",
    "    # 记录已找到最短路径的节点集合\n",
    "    shortest_path_set = set()\n",
    "    # 图中总节点数，用于控制循环次数\n",
    "    num_nodes = len(graph)\n",
    "    \n",
    "    while len(shortest_path_set) < num_nodes:\n",
    "        # 在当前未处理的节点中找到距离最小的节点作为处理节点\n",
    "        current_node = None\n",
    "        min_distance = float('inf')\n",
    "        for node in graph:\n",
    "            if node not in shortest_path_set and distances[node] < min_distance:\n",
    "                min_distance = distances[node]\n",
    "                current_node = node\n",
    "        \n",
    "        # 若所有剩余节点不可达，提前结束循环\n",
    "        if current_node is None:\n",
    "            break\n",
    "        \n",
    "        # 将当前节点加入已处理集合\n",
    "        shortest_path_set.add(current_node)\n",
    "        \n",
    "        # 遍历当前节点的所有邻居，更新最短距离和前驱节点\n",
    "        for neighbor, weight in graph[current_node].items(): # 遍历当前节点的所有邻居，更新其最短距离和前驱节点\n",
    "            new_distance = distances[current_node] + weight # 计算从源点经过当前节点到达该邻居的新距离\n",
    "            if new_distance < distances[neighbor]:  # 如果新路径更短，则更新邻居节点的距离和前驱节点\n",
    "                distances[neighbor] = new_distance\n",
    "                predecessors[neighbor] = current_node  # 更新前驱节点\n",
    "    \n",
    "    return distances, predecessors"
   ]
  },
  {
   "cell_type": "markdown",
   "id": "e83c498e-12ed-444b-bfa6-821f147ad524",
   "metadata": {},
   "source": [
    "#"
   ]
  },
  {
   "cell_type": "markdown",
   "id": "26706932-3887-46c9-910c-be47220334ad",
   "metadata": {},
   "source": [
    "执行算法并输出结果"
   ]
  },
  {
   "cell_type": "code",
   "execution_count": 36,
   "id": "11cd17e8-5bc7-4452-bc75-82f6da75acf2",
   "metadata": {
    "scrolled": true
   },
   "outputs": [
    {
     "name": "stdout",
     "output_type": "stream",
     "text": [
      "A点到B点的最短路径和距离：('A->C->B', 5)\n",
      "A点到C点的最短路径和距离：('A->C', 3)\n",
      "A点到D点的最短路径和距离：('A->C->D', 6)\n",
      "A点到E点的最短路径和距离：('A->C->E', 7)\n",
      "A点到F点的最短路径和距离：('A->C->D->F', 9)\n"
     ]
    }
   ],
   "source": [
    "# 调用Dijkstra算法获取距离和前驱信息\n",
    "source_node = 'A'\n",
    "distances, predecessors = dijkstra(graph, source_node)\n",
    "\n",
    "# 生成并打印结果\n",
    "for node in graph:\n",
    "    if node == source_node:\n",
    "        continue  # 跳过源点自身\n",
    "    \n",
    "    # 通过前驱节点回溯构建路径\n",
    "    path = []\n",
    "    current = node\n",
    "    while current is not None:\n",
    "        path.append(current)\n",
    "        current = predecessors[current]\n",
    "    path = path[::-1]  # 反转路径得到正向顺序\n",
    "    \n",
    "    # 检查路径有效性并格式化输出\n",
    "    if path[0] == source_node:\n",
    "        path_str = '->'.join(path)\n",
    "        print(f\"{source_node}点到{node}点的最短路径和距离：('{path_str}', {distances[node]})\")\n",
    "    else:\n",
    "        print(f\"{source_node}点到{node}点没有可达路径\")"
   ]
  }
 ],
 "metadata": {
  "kernelspec": {
   "display_name": "Python [conda env:base] *",
   "language": "python",
   "name": "conda-base-py"
  },
  "language_info": {
   "codemirror_mode": {
    "name": "ipython",
    "version": 3
   },
   "file_extension": ".py",
   "mimetype": "text/x-python",
   "name": "python",
   "nbconvert_exporter": "python",
   "pygments_lexer": "ipython3",
   "version": "3.12.7"
  }
 },
 "nbformat": 4,
 "nbformat_minor": 5
}
