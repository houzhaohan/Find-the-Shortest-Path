{
 "cells": [
  {
   "cell_type": "markdown",
   "id": "c438d5b8-8ae8-4ea7-bbe0-51c585bc178a",
   "metadata": {},
   "source": [
    "## A*算法求解最短路径"
   ]
  },
  {
   "cell_type": "code",
   "execution_count": 2,
   "id": "c1bf4110-21f3-4dcb-8308-2c1cef443d8e",
   "metadata": {},
   "outputs": [],
   "source": [
    "import heapq\n",
    "import math\n",
    "import numpy as np\n",
    "import matplotlib.pyplot as plt"
   ]
  },
  {
   "cell_type": "markdown",
   "id": "200089fc-a3ca-48cf-846e-8504c1ba6c72",
   "metadata": {},
   "source": [
    "#### 启发函数：计算当前点到终点的欧式距离（8个邻居）"
   ]
  },
  {
   "cell_type": "code",
   "execution_count": 4,
   "id": "08297d07-c8c1-4787-bafe-e2c407c370fc",
   "metadata": {},
   "outputs": [],
   "source": [
    "def heuristic(pos, end):\n",
    "    return math.sqrt((end[0]-pos[0])**2 + (end[1]-pos[1])**2)"
   ]
  },
  {
   "cell_type": "markdown",
   "id": "ce61747f-a598-4510-a266-fb8c04036409",
   "metadata": {},
   "source": [
    "#### A*算法主函数\n",
    "**参数：**\n",
    "- grid:  \n",
    "  - 类型: 二维数组  \n",
    "  - 说明: 网格地图，`0` 表示可通行区域，`1` 表示障碍物  \n",
    "- start:  \n",
    "  - 类型: tuple  \n",
    "  - 说明: 起始坐标，格式为 `(x, y)`  \n",
    "- end:  \n",
    "  - 类型: tuple  \n",
    "  - 说明: 终点坐标，格式为 `(x, y)`    \n",
    "\n",
    "**返回：**\n",
    "- path:  \n",
    "  - 类型: 列表（包含 tuple）或 `None`  \n",
    "  - 说明: 从起点到终点的路径坐标列表（若存在路径），若路径不存在则返回 `None`  "
   ]
  },
  {
   "cell_type": "code",
   "execution_count": 6,
   "id": "8e175fd6-ea52-4978-8379-6ba7c75211d6",
   "metadata": {},
   "outputs": [],
   "source": [
    "def astar(grid, start, end):\n",
    "    # 获取网格的行数和列数\n",
    "    rows = len(grid)\n",
    "    cols = len(grid[0]) if rows > 0 else 0\n",
    "    \n",
    "    # 定义八个移动方向（包括对角线方向）\n",
    "    directions = [(-1,-1), (-1,0), (-1,1),\n",
    "                  (0,-1),          (0,1),\n",
    "                  (1,-1),  (1,0), (1,1)]\n",
    "    \n",
    "    # 初始化优先队列（开放列表），元素格式为 (f值, g值, x坐标, y坐标)\n",
    "    open_heap = []\n",
    "    heapq.heappush(open_heap, (heuristic(start, end), 0, start[0], start[1]))\n",
    "    \n",
    "    # g_scores记录从起点到各节点的实际代价\n",
    "    g_scores = {start: 0}  \n",
    "    # came_from记录节点的前驱节点，用于路径回溯\n",
    "    came_from = {}          \n",
    "    \n",
    "    # 主循环，处理开放列表中的节点\n",
    "    while open_heap:\n",
    "        # 取出当前f值最小的节点\n",
    "        current_f, current_g, x, y = heapq.heappop(open_heap)\n",
    "        current_pos = (x, y)\n",
    "        \n",
    "        # 若到达终点，重构并返回路径\n",
    "        if current_pos == end:\n",
    "            path = []\n",
    "            # 通过前驱节点回溯路径\n",
    "            while current_pos in came_from:\n",
    "                path.append(current_pos)\n",
    "                current_pos = came_from[current_pos]\n",
    "            path.append(start)  # 添加起点\n",
    "            path.reverse()      # 反转得到从起点到终点的路径\n",
    "            return path, current_g\n",
    "        \n",
    "        # 如果当前节点的g值已不是最小，说明已有更优路径，跳过处理\n",
    "        if current_g > g_scores.get(current_pos, float('inf')):\n",
    "            continue\n",
    "        \n",
    "        # 遍历所有可能移动方向\n",
    "        for dx, dy in directions:\n",
    "            nx, ny = x + dx, y + dy\n",
    "            # 检查新坐标是否在网格范围内且可通行\n",
    "            if 0 <= nx < rows and 0 <= ny < cols and grid[nx][ny] == 0:\n",
    "                # 计算移动代价：对角线移动为√2，直线移动为1\n",
    "                move_cost = math.sqrt(2) if dx and dy else 1\n",
    "                tentative_g = current_g + move_cost  # 暂定g值\n",
    "                neighbor_pos = (nx, ny)\n",
    "                \n",
    "                # 如果新路径比已知路径更优\n",
    "                if tentative_g < g_scores.get(neighbor_pos, float('inf')):\n",
    "                    came_from[neighbor_pos] = current_pos  # 记录前驱节点\n",
    "                    g_scores[neighbor_pos] = tentative_g  # 更新g值\n",
    "                    # 计算f值（g值 + 启发式估计值）并加入开放列表\n",
    "                    f = tentative_g + heuristic(neighbor_pos, end)\n",
    "                    heapq.heappush(open_heap, (f, tentative_g, nx, ny))\n",
    "    \n",
    "    # 开放列表耗尽仍未找到终点，返回None\n",
    "    return None"
   ]
  },
  {
   "cell_type": "markdown",
   "id": "f567fa6c-a854-41da-82af-390401b30d14",
   "metadata": {},
   "source": [
    "#### 输入数据"
   ]
  },
  {
   "cell_type": "code",
   "execution_count": 8,
   "id": "8d011e13-7230-461f-adc7-1a0762bbe61c",
   "metadata": {},
   "outputs": [],
   "source": [
    "input_data = \"\"\"\n",
    "0000000010000000000000000000100000000000\n",
    "000S000010000001000000000000100000010000\n",
    "0000000010000001110000000000100000011100\n",
    "0000001011111100010000000010111111000100\n",
    "0000000001000100000000000000010001000000\n",
    "0000000001000101110000000000010001011100\n",
    "0000000000000000000000000000000000000000\n",
    "0111100000000000000000000000000000000000\n",
    "0000000000000000000000000000000011111111\n",
    "0000000000000000000000000000000000000000\n",
    "0000000000000000000000000000000000000000\n",
    "0000000000000000011111111100000000000000\n",
    "00000111111111000001111111110000000000E0\n",
    "\"\"\""
   ]
  },
  {
   "cell_type": "markdown",
   "id": "57966708-d4a7-49f8-80af-3cb877ae87f7",
   "metadata": {},
   "source": [
    "#### 解析输入数据为二维数组，并定位起点(S)和终点(E)"
   ]
  },
  {
   "cell_type": "code",
   "execution_count": 10,
   "id": "e51df9cf-e4e8-449c-83bd-a7e95da5b538",
   "metadata": {},
   "outputs": [],
   "source": [
    "rows = [line.strip() for line in input_data.split('\\n') if line.strip()]\n",
    "start = None\n",
    "end = None\n",
    "map_data = []\n",
    "\n",
    "for i, row in enumerate(rows):\n",
    "    map_row = []\n",
    "    for j, char in enumerate(row):\n",
    "        if char == 'S':\n",
    "            start = (i, j)      # 记录起点坐标（行，列）\n",
    "            map_row.append(0)   # 起点位置设为可通行\n",
    "        elif char == 'E':\n",
    "            end = (i, j)        # 记录终点坐标\n",
    "            map_row.append(0)   # 终点位置设为可通行\n",
    "        else:\n",
    "            # 将字符转换为0（可通行）或1（障碍）\n",
    "            map_row.append(0 if char in ('0', 'S', 'E') else 1)\n",
    "    map_data.append(map_row)"
   ]
  },
  {
   "cell_type": "markdown",
   "id": "0bf2db95-9db1-42d9-a1bf-06a0ade70467",
   "metadata": {},
   "source": [
    "#### 运行A*算法"
   ]
  },
  {
   "cell_type": "code",
   "execution_count": 12,
   "id": "636416b4-b515-4244-9759-f39d70451024",
   "metadata": {},
   "outputs": [],
   "source": [
    "result = astar(map_data, start, end)"
   ]
  },
  {
   "cell_type": "markdown",
   "id": "44279c61-01c3-4617-b97e-14e36832874d",
   "metadata": {},
   "source": [
    "#### 输出结果"
   ]
  },
  {
   "cell_type": "code",
   "execution_count": 14,
   "id": "20915028-674c-482b-bd58-464e9d5d24b9",
   "metadata": {},
   "outputs": [
    {
     "name": "stdout",
     "output_type": "stream",
     "text": [
      "最短路径长度：39.56\n",
      "最短路径坐标：\n",
      "(1, 3)\n",
      "(2, 4)\n",
      "(3, 5)\n",
      "(4, 6)\n",
      "(4, 7)\n",
      "(5, 8)\n",
      "(6, 9)\n",
      "(6, 10)\n",
      "(6, 11)\n",
      "(6, 12)\n",
      "(6, 13)\n",
      "(6, 14)\n",
      "(6, 15)\n",
      "(6, 16)\n",
      "(6, 17)\n",
      "(6, 18)\n",
      "(6, 19)\n",
      "(6, 20)\n",
      "(6, 21)\n",
      "(6, 22)\n",
      "(6, 23)\n",
      "(6, 24)\n",
      "(6, 25)\n",
      "(7, 26)\n",
      "(7, 27)\n",
      "(7, 28)\n",
      "(8, 29)\n",
      "(8, 30)\n",
      "(8, 31)\n",
      "(9, 32)\n",
      "(10, 33)\n",
      "(10, 34)\n",
      "(11, 35)\n",
      "(11, 36)\n",
      "(11, 37)\n",
      "(12, 38)\n"
     ]
    }
   ],
   "source": [
    "if result:\n",
    "    path, path_length = result\n",
    "    print(f\"最短路径长度：{path_length:.2f}\")\n",
    "    print(\"最短路径坐标：\")\n",
    "    for p in path:\n",
    "        print(p)\n",
    "else:\n",
    "    print(\"没有找到路径\")"
   ]
  },
  {
   "cell_type": "markdown",
   "id": "b5d9c6cb-a306-412e-bfce-5c27f34b679b",
   "metadata": {},
   "source": [
    "#### 数据可视化"
   ]
  },
  {
   "cell_type": "code",
   "execution_count": 16,
   "id": "056f260e-3b22-4651-8e92-808697b1d781",
   "metadata": {},
   "outputs": [
    {
     "data": {
      "image/png": "[encoded data removed]",
      "text/plain": [
       "<Figure size 1000x1000 with 1 Axes>"
      ]
     },
     "metadata": {},
     "output_type": "display_data"
    }
   ],
   "source": [
    "# 设置颜色\n",
    "grid = np.array(map_data)\n",
    "image = np.ones((grid.shape[0], grid.shape[1], 3))  # 创建白色背景\n",
    "\n",
    "image[grid == 1] = [0, 0, 0]  # 设置障碍为黑色\n",
    "\n",
    "# 标记起点和终点\n",
    "if start:\n",
    "    image[start[0], start[1]] = [0, 1, 0]  # 起点绿色\n",
    "if end:\n",
    "    image[end[0], end[1]] = [0, 0, 1]  # 终点蓝色\n",
    "\n",
    "plt.figure(figsize=(10, 10))\n",
    "plt.imshow(image, interpolation='nearest')\n",
    "plt.xticks(range(grid.shape[1]))\n",
    "plt.yticks(range(grid.shape[0]))\n",
    "\n",
    "# 添加网格线\n",
    "plt.gca().set_xticks([x - 0.5 for x in range(grid.shape[1]+1)], minor=True)\n",
    "plt.gca().set_yticks([y - 0.5 for y in range(grid.shape[0]+1)], minor=True)\n",
    "plt.grid(which='minor', color='gray', linestyle='-', linewidth=0.5)\n",
    "\n",
    "# 绘制路径\n",
    "if path:\n",
    "    # 提取路径点的列索引作为x坐标，行索引作为y坐标\n",
    "    x_coords = [y for (x, y) in path]\n",
    "    y_coords = [x for (x, y) in path]\n",
    "    plt.plot(x_coords, y_coords, color='red', linewidth=2)  # 用红色直线连接路径点\n",
    "\n",
    "plt.title(\"A* Pathfinding Result\")\n",
    "plt.show()"
   ]
  }
 ],
 "metadata": {
  "kernelspec": {
   "display_name": "Python [conda env:base] *",
   "language": "python",
   "name": "conda-base-py"
  },
  "language_info": {
   "codemirror_mode": {
    "name": "ipython",
    "version": 3
   },
   "file_extension": ".py",
   "mimetype": "text/x-python",
   "name": "python",
   "nbconvert_exporter": "python",
   "pygments_lexer": "ipython3",
   "version": "3.12.7"
  }
 },
 "nbformat": 4,
 "nbformat_minor": 5
}
